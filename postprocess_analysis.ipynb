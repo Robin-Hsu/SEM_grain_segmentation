{
 "cells": [
  {
   "cell_type": "code",
   "execution_count": null,
   "metadata": {},
   "outputs": [],
   "source": [
    "# Postprocessing and grain size analysis\n",
    "# Author: Chengchao Xu\n",
    "# Date: 2025-03-11\n",
    "\n",
    "# import libraries\n",
    "import os\n",
    "import pandas as pd\n",
    "import numpy as np\n",
    "import matplotlib.pyplot as plt\n",
    "import cv2\n",
    "from skimage.io import imread, imsave\n",
    "from skimage import feature, morphology, util, segmentation\n",
    "from scipy import ndimage as ndi\n",
    "from skimage.morphology import disk, erosion, dilation, closing, opening\n",
    "from skimage.measure import label, regionprops\n",
    "from skimage.segmentation import watershed\n",
    "from skimage.feature import multiscale_basic_features, peak_local_max\n",
    "import BSSEM_utils\n",
    "\n",
    "# read the image and predictions\n",
    "image_dir = os.path.join('..', 'image_files', 'AG56-A')  # Use os.path.join for proper path separators\n",
    "image_filename = 'AG56-D2-A-50K-002'\n",
    "\n",
    "# Create input path\n",
    "test_filepath = os.path.join(image_dir, image_filename +'_test.tif')\n",
    "pred_filepath = os.path.join(image_dir, image_filename +'_predict_GBs.tif')\n",
    "test_image = imread(test_filepath)\n",
    "prediction = imread(pred_filepath)\n"
   ]
  },
  {
   "cell_type": "code",
   "execution_count": null,
   "metadata": {},
   "outputs": [],
   "source": [
    "def plot_image(image, title=None, cmap='gray'):\n",
    "    \"\"\"\n",
    "    Visualize an image.\n",
    "    \n",
    "    Args:\n",
    "        image (ndarray): Input image\n",
    "        title (str): Title for the plot\n",
    "        cmap (str): Colormap\n",
    "    \"\"\"\n",
    "    plt.figure(figsize=(10, 8))\n",
    "    plt.imshow(image, cmap=cmap)\n",
    "    \n",
    "    if title is not None:\n",
    "        plt.title(title)\n",
    "    plt.show()"
   ]
  },
  {
   "cell_type": "code",
   "execution_count": null,
   "metadata": {},
   "outputs": [],
   "source": [
    "# Step 1: Extract outlines (inverting prediction to get outlines)\n",
    "outlines = prediction\n",
    "plot_image(outlines, title=\"Initial Outlines\")\n",
    "print(np.unique(outlines))\n",
    "print(outlines.shape)\n",
    "# step2: apply opening to remove salts\n",
    "outline_cleaned = BSSEM_utils.apply_opening(outlines, 2)\n",
    "plot_image(outline_cleaned)\n",
    "\n"
   ]
  },
  {
   "cell_type": "code",
   "execution_count": null,
   "metadata": {},
   "outputs": [],
   "source": [
    "#step 3 OPTIONAL: connection boundary dots\n",
    "outline_connected = BSSEM_utils.connect_boundary_dots(outline_cleaned, line_length=3, min_size=100)\n",
    "plot_image(outline_connected)"
   ]
  },
  {
   "cell_type": "code",
   "execution_count": null,
   "metadata": {},
   "outputs": [],
   "source": [
    "# step4 invert back to grains\n",
    "inverted = 1- outline_connected\n",
    "plot_image(inverted, title=\"Inverted Image (Grains)\")\n",
    "\n",
    "# Step 5: Separate touching grains\n",
    "separated, watershed_labels, distance_map = BSSEM_utils.separate_touching(\n",
    "    inverted, min_distance=40, num_erosions=1\n",
    ")\n",
    "plot_image(separated, title=\"Separated Grains\")"
   ]
  },
  {
   "cell_type": "code",
   "execution_count": null,
   "metadata": {},
   "outputs": [],
   "source": [
    "# step6: fill holes in the grains\n",
    "grain_cleaned = BSSEM_utils.fill_grain_holes(separated, max_hole_size=2000)\n",
    "grain_cleaned = BSSEM_utils.remove_small_objects(grain_cleaned, min_size = 50)\n",
    "plot_image(grain_cleaned)"
   ]
  },
  {
   "cell_type": "code",
   "execution_count": null,
   "metadata": {},
   "outputs": [],
   "source": [
    "final_labels = segmentation.clear_border(label(grain_cleaned))\n",
    "BSSEM_utils.visualize_labeled(final_labels)"
   ]
  },
  {
   "cell_type": "code",
   "execution_count": null,
   "metadata": {},
   "outputs": [],
   "source": [
    "# analyze grains\n",
    "SCALE_FACTOR = 0.603 # pixel/nm\n",
    "grain_data = BSSEM_utils.analyze_grains(final_labels, scale_factor=SCALE_FACTOR)\n",
    "# Include the image filename to create a descriptive output name\n",
    "BSSEM_utils.save_grain_analysis(grain_data, image_filename=image_filename, save_dir=image_dir)\n",
    "\n",
    "# Fix for aspect ratio infinity values (add this line)\n",
    "# aspect_ratios = grain_data['major_axis_lengths'] / np.maximum(grain_data['minor_axis_lengths'], 1e-10)\n",
    "# grain_data['aspect_ratios'] = np.clip(aspect_ratios, 0, 10)  # Clip to reasonable range\n",
    "\n",
    "BSSEM_utils.visualize_grain_statistics(grain_data)\n",
    "\n",
    "# Step 7: Create overlay on original image\n",
    "segmentation_demo = BSSEM_utils.visualize_overlay(test_image, final_labels)\n",
    "print(segmentation_demo.dtype)\n",
    "\n",
    "segmentation_with_bar = BSSEM_utils.add_simple_scale_bar(segmentation_demo)\n"
   ]
  },
  {
   "cell_type": "code",
   "execution_count": null,
   "metadata": {},
   "outputs": [],
   "source": [
    "\n",
    "output_filename = image_filename + '_seg_result.tif'  # Better naming convention\n",
    "output_path = os.path.join(image_dir, output_filename)\n",
    "# Save the predicted labels to the output path\n",
    "imsave(output_path, segmentation_with_bar) \n",
    "\n",
    "print(f\"Saved prediction to: {output_path}\")\n",
    "\n",
    "# Show result\n",
    "plt.figure()\n",
    "plt.imshow(segmentation_with_bar)\n",
    "plt.title('Segmentation with 500 nm Scale Bar')\n",
    "plt.axis('off')\n",
    "plt.show()"
   ]
  },
  {
   "cell_type": "code",
   "execution_count": null,
   "metadata": {},
   "outputs": [],
   "source": []
  }
 ],
 "metadata": {
  "kernelspec": {
   "display_name": "sem_seg",
   "language": "python",
   "name": "python3"
  },
  "language_info": {
   "codemirror_mode": {
    "name": "ipython",
    "version": 3
   },
   "file_extension": ".py",
   "mimetype": "text/x-python",
   "name": "python",
   "nbconvert_exporter": "python",
   "pygments_lexer": "ipython3",
   "version": "3.13.2"
  }
 },
 "nbformat": 4,
 "nbformat_minor": 2
}
