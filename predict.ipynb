{
 "cells": [
  {
   "cell_type": "code",
   "execution_count": null,
   "metadata": {},
   "outputs": [],
   "source": [
    "# Preprocessing images and labels for training\n",
    "# Author: Chengchao Xu\n",
    "# Date: 2025-03-11\n",
    "\n",
    "# virtual environment: mini-proj\n",
    "# \"conda activate mini-proj\"\n",
    "\n",
    "# libraries\n",
    "import os\n",
    "import numpy as np\n",
    "from skimage import feature, io, color, exposure, filters\n",
    "import matplotlib.pyplot as plt\n"
   ]
  },
  {
   "cell_type": "code",
   "execution_count": null,
   "metadata": {},
   "outputs": [],
   "source": [
    "# TODO: change the image path\n",
    "# change folder name and file name\n",
    "# Change folder name and file name\n",
    "image_dir = os.path.join('..', 'image_files', 'AG56-A')  # Use os.path.join for proper path separators\n",
    "image_filename = 'AG56-D2-A-50K-002'\n",
    "\n",
    "# Create input path\n",
    "test_filepath = os.path.join(image_dir, image_filename +'.tif')"
   ]
  },
  {
   "cell_type": "code",
   "execution_count": null,
   "metadata": {},
   "outputs": [],
   "source": [
    "# Load and preprocess image\n",
    "test_image = io.imread(test_filepath)\n",
    "test_image = test_image[0:960, 0:1500]\n",
    "# Convert to grayscale if necessary\n",
    "if len(test_image.shape) > 2:\n",
    "    test_image = color.rgb2gray(test_image)\n",
    "print(f\"Original image shape: {test_image.shape}\")\n",
    "\n",
    "# display the image\n",
    "plt.imshow(test_image, cmap='gray')\n",
    "plt.title('Original Image')\n",
    "\n",
    "# Create output filename for the test image\n",
    "test_filename = image_filename + '_test.tif'\n",
    "# Create complete output path\n",
    "output_path = os.path.join(image_dir, test_filename)\n",
    "\n",
    "# Save the test image\n",
    "io.imsave(output_path, test_image.astype(np.uint8))\n",
    "print(f\"Saved test image to: {output_path}\")\n"
   ]
  },
  {
   "cell_type": "code",
   "execution_count": null,
   "metadata": {},
   "outputs": [],
   "source": [
    "\n",
    "# preprocess the image same as training image\n",
    "from skimage.morphology import disk, white_tophat\n",
    "selem = disk(50)  # Size controls how large of background variations to remove\n",
    "test_image = white_tophat(test_image, selem)\n",
    "image_enhanced = exposure.rescale_intensity(test_image)\n",
    "image_denoised = filters.gaussian(image_enhanced, sigma=2)\n",
    "\n",
    "# Display the processed image\n",
    "image_processed = image_denoised\n",
    "plt.figure()\n",
    "plt.imshow(image_processed, cmap='gray')\n",
    "plt.title('Processed Image')\n",
    "\n",
    "# Set scale factor, measured using imageJ\n",
    "SCALE_FACTOR = 0.603 # pixel/nm\n",
    "\n",
    "# skimage feature extraction\n",
    "features = feature.multiscale_basic_features(\n",
    "    image=image_processed,\n",
    "    intensity=True,\n",
    "    texture=True,\n",
    "    edges=True,\n",
    "    sigma_min=1,\n",
    "    sigma_max=10,\n",
    "    channel_axis=None # no color channel\n",
    ")\n",
    "print(f\"Feature shape: {features.shape}\")"
   ]
  },
  {
   "cell_type": "code",
   "execution_count": null,
   "metadata": {},
   "outputs": [],
   "source": [
    "\n",
    "\n",
    "from joblib import load\n",
    "# load the classifier\n",
    "pixel_classifier = load('best_pixel_classifier.joblib')\n",
    "# predict the labels\n",
    "X = features.reshape(-1, features.shape[2])\n",
    "predicted_labels = pixel_classifier.predict(X).reshape(image_processed.shape)\n"
   ]
  },
  {
   "cell_type": "code",
   "execution_count": null,
   "metadata": {},
   "outputs": [],
   "source": [
    "\n",
    "# Display the predicted labels with original test image, sub plot\n",
    "plt.figure()\n",
    "plt.subplot(121)\n",
    "plt.imshow(test_image, cmap='gray')\n",
    "plt.title('Original Image')\n",
    "plt.subplot(122)\n",
    "plt.imshow(predicted_labels, cmap='gray')\n",
    "plt.title('Predicted Labels')\n",
    "plt.show()\n",
    "\n",
    "\n"
   ]
  },
  {
   "cell_type": "code",
   "execution_count": null,
   "metadata": {},
   "outputs": [],
   "source": [
    "# Create output path (with proper naming)\n",
    "output_filename = image_filename + '_predict_GBs.tif'  # Better naming convention\n",
    "output_path = os.path.join(image_dir, output_filename)\n",
    "\n",
    "# Save the predicted labels to the output path\n",
    "io.imsave(output_path, predicted_labels.astype(np.uint8)) \n",
    "\n",
    "print(f\"Saved prediction to: {output_path}\")\n"
   ]
  },
  {
   "cell_type": "code",
   "execution_count": null,
   "metadata": {},
   "outputs": [],
   "source": []
  }
 ],
 "metadata": {
  "kernelspec": {
   "display_name": "sem_seg",
   "language": "python",
   "name": "python3"
  },
  "language_info": {
   "codemirror_mode": {
    "name": "ipython",
    "version": 3
   },
   "file_extension": ".py",
   "mimetype": "text/x-python",
   "name": "python",
   "nbconvert_exporter": "python",
   "pygments_lexer": "ipython3",
   "version": "3.13.2"
  }
 },
 "nbformat": 4,
 "nbformat_minor": 2
}
